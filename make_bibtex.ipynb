{
 "cells": [
  {
   "cell_type": "code",
   "execution_count": 1,
   "metadata": {},
   "outputs": [
    {
     "name": "stdout",
     "output_type": "stream",
     "text": [
      "ISBN9784563024239\n",
      "参照するときの書籍名kugo_gauge_1\n",
      "出版社培風館\n",
      "@book{kugo_gauge_1, author = 九後汰一郎, title = ゲージ場の量子論 I, publisher = 培風館, year = 1989}\n"
     ]
    }
   ],
   "source": [
    "import urllib.request\n",
    "import json\n",
    "\n",
    "def api(ISBN):\n",
    "    api_url = 'https://www.googleapis.com/books/v1/volumes?q=isbn:'+ ISBN +'&maxResults=1'\n",
    "    response = urllib.request.urlopen(url=api_url)\n",
    "    data_dict = json.load(response)\n",
    "    return data_dict\n",
    "\n",
    "def error(data_dict):\n",
    "    error_val = 'noerror'\n",
    "    if data_dict['totalItems'] == 0:\n",
    "        error_val = 'error'\n",
    "    return error_val\n",
    "    \n",
    "def choose_item(data_dict):\n",
    "    book_data = data_dict['items'][0]['volumeInfo']\n",
    "    authors = book_data['authors']\n",
    "    author = ''\n",
    "    for i in authors:\n",
    "        author += i + ', ' \n",
    "    title = book_data['title']\n",
    "    year = book_data['publishedDate']\n",
    "    return author , title , year\n",
    "\n",
    "def make_bibtex(name , author , title , publisher , year):\n",
    "    bib = '@book{' + name + ', ' + 'author = ' + author + 'title = ' + title + ', ' + 'publisher = ' + publisher + ', ' + 'year = ' + year + '}'\n",
    "    return bib\n",
    "    \n",
    "def main():\n",
    "    isbn = input('ISBN')\n",
    "    name = input('参照するときの書籍名')\n",
    "    publisher = input('出版社')\n",
    "    if name != 'end' and isbn != 'end' and publisher != 'end':\n",
    "        data_dict = api(isbn)\n",
    "        error_val = error(data_dict)\n",
    "        if error_val == 'noerror':\n",
    "            author , title , year = choose_item(data_dict)\n",
    "            bib = make_bibtex(name , author , title , publisher , year)\n",
    "            print(bib)\n",
    "        else:\n",
    "            print('error')\n",
    "\n",
    "main()"
   ]
  },
  {
   "cell_type": "code",
   "execution_count": null,
   "metadata": {},
   "outputs": [],
   "source": []
  }
 ],
 "metadata": {
  "kernelspec": {
   "display_name": "py3env",
   "language": "python",
   "name": "py3env"
  },
  "language_info": {
   "codemirror_mode": {
    "name": "ipython",
    "version": 3
   },
   "file_extension": ".py",
   "mimetype": "text/x-python",
   "name": "python",
   "nbconvert_exporter": "python",
   "pygments_lexer": "ipython3",
   "version": "3.8.2"
  }
 },
 "nbformat": 4,
 "nbformat_minor": 4
}
